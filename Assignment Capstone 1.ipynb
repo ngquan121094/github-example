{
    "cells": [
        {
            "metadata": {
                "collapsed": true
            },
            "cell_type": "markdown",
            "source": "Discussion of the background\n\nNew York City (NYC), often called The City or simply New York (NY), is the most populous city in the United States. With an estimated 2019 population of 8,336,817 distributed over about 302.6 square miles (784 km2), New York is also the most densely populated major city in the United States. Located at the southern tip of the U.S. state of New York, the city is the center of the New York metropolitan area, the largest metropolitan area in the world by urban landmass. With almost 20 million people in its metropolitan statistical area and approximately 23 million in its combined statistical area, it is one of the world's most populous megacities. New York City has been described as the cultural, financial, and media capital of the world, significantly influencing commerce, entertainment, research, technology, education, politics, tourism, art, fashion, and sports. Home to the headquarters of the United Nations, New York is an important center for international diplomacy."
        },
        {
            "metadata": {},
            "cell_type": "markdown",
            "source": "Description of the problem\n\nShifting demographics and changing lifestyles are driving the surge in food-service businesses. Busy consumers don't have the time or inclination to cook. They want the flavor of fresh bread without the hassle of baking. They want tasty, nutritious meals without dishes to wash. In fact, the rise in popularity of to-go operations underscores some clear trends in the food-service industry. More and more singles, working parents and elderly people are demanding greater convenience when it comes to buying their meals. New York City's food culture includes an array of international cuisines influenced by the city's immigrant history. For e.g., brought bagels, cheesecake, hot dogs, knishes, and delicatessens (or delis) to the city. brought New York-style pizza and Italian cuisine into the city, while Jewish immigrants and Irish immigrants brought pastrami and corned beef, respectively. have introduced the traditional Indian spices used in their most of the preprations. Chinese and other Asian restaurants, sandwich joints, trattorias, diners, and coffeehouses are ubiquitous throughout the city. Some 4,000 mobile food vendors licensed by the city, many immigrant-owned, have made Middle Eastern foods such as falafel and kebabs.\n\nThough the future looks bright for the food-service industry overall, there are no guarantees in this business. Even the most successful operators will tell you this isn't a \"get rich quick\" industry.\n\nSince we now know that we have a lot of competitors in the market. So we need to strategically plan in order to make a surge in our business with lower risk factor.\n\nThe most important things that we're going to take into consideration in this project are :\nWe are giong to examine the neighborhoods in Manhattan and Brooklyn mainly, where the Restaurant company wants to start it's business.\nWe will then explore all the neighborhoods in these boroughs for different restaurant venues and cluster them.\nWe will examine differnt neighborhoods that have saturated and unsaturated markets.\nFinally we will suggest the neighborhoods that has lesser number of restaurant venues so that the Restaurant company has a perfect location to start their business with."
        },
        {
            "metadata": {},
            "cell_type": "markdown",
            "source": "Description of the data\n\nNeighborhood has a total of 5 boroughs and 306 neighborhoods. In order to segement the neighborhoods and explore them, we will essentially need a dataset that contains the 5 boroughs and the neighborhoods that exist in each borough as well as the the latitude and logitude coordinates of each neighborhood.\n\nLuckily, this dataset exists for free on the web: https://geo.nyu.edu/catalog/nyu_2451_34572\n\nFor the convenience, the files are downloaded and placed on the server: https://cocl.us/new_york_dataset\n\nFoursquare API Data: The data will be given as an input to the Foursquare API, in order to get information about different venues."
        },
        {
            "metadata": {},
            "cell_type": "code",
            "source": "",
            "execution_count": null,
            "outputs": []
        }
    ],
    "metadata": {
        "kernelspec": {
            "name": "python3",
            "display_name": "Python 3.6",
            "language": "python"
        },
        "language_info": {
            "name": "python",
            "version": "3.6.9",
            "mimetype": "text/x-python",
            "codemirror_mode": {
                "name": "ipython",
                "version": 3
            },
            "pygments_lexer": "ipython3",
            "nbconvert_exporter": "python",
            "file_extension": ".py"
        }
    },
    "nbformat": 4,
    "nbformat_minor": 1
}